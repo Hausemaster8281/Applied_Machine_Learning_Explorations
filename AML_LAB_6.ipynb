{
 "cells": [
  {
   "cell_type": "markdown",
   "id": "7d14712a-2745-4c43-89ee-becc3fd38449",
   "metadata": {},
   "source": [
    "### import matplotlib.pyplot as plt\n",
    "import seaborn as sns\n",
    "from sklearn.datasets import fetch_lfw_people\n",
    "from sklearn.model_selection import train_test_split\n",
    "from sklearn.ensemble import RandomForestClassifier\n",
    "from sklearn.metrics import classification_report, confusion_matrix\n",
    "from sklearn.decomposition import PCA\n",
    "\n",
    "# 1. Load Data (using the same dataset as before)\n",
    "lfw_people = fetch_lfw_people(min_faces_per_person=70, resize=0.4)\n",
    "X = lfw_people.data\n",
    "y = lfw_people.target\n",
    "target_names = lfw_people.target_names\n",
    "n_classes = len(target_names)\n",
    "print(f\"Total dataset size: {X.shape[0]} samples\")\n",
    "print(f\"Number of classes (people): {n_classes}\")\n",
    "\n",
    "\n",
    "# 2. Preprocess with PCA (same transformation)\n",
    "n_components = 150\n",
    "pca = PCA(n_components=n_components, svd_solver='randomized', whiten=True).fit(X)\n",
    "X_pca = pca.transform(X)\n",
    "\n",
    "# 3. Split Data\n",
    "X_train, X_test, y_train, y_test = train_test_split(\n",
    "    X_pca, y, test_size=0.25, random_state=42\n",
    ")\n",
    "\n",
    "# 4. Instantiate & Train Model\n",
    "# n_estimators is the number of trees in the forest\n",
    "print(\"\\nTraining the Random Forest model...\")\n",
    "clf = RandomForestClassifier(n_estimators=200, max_features='sqrt', random_state=42)\n",
    "clf.fit(X_train, y_train)\n",
    "print(\"Training complete.\")\n",
    "\n",
    "# 5. Predict\n",
    "y_pred = clf.predict(X_test)\n",
    "\n",
    "# 6. Evaluate\n",
    "print(\"\\nModel Performance Metrics:\")\n",
    "print(classification_report(y_test, y_pred, target_names=target_names))\n",
    "\n",
    "# Generate and plot confusion matrix\n",
    "cm = confusion_matrix(y_test, y_pred, labels=range(n_classes))\n",
    "plt.figure(figsize=(10, 8))\n",
    "sns.heatmap(cm, annot=True, fmt='d', cmap='Purples', \n",
    "            xticklabels=target_names, \n",
    "            yticklabels=target_names)\n",
    "plt.title('Confusion Matrix', fontsize=16)\n",
    "plt.ylabel('True Label', fontsize=12)\n",
    "plt.xlabel('Predicted Label', fontsize=12)\n",
    "plt.show()"
   ]
  },
  {
   "cell_type": "code",
   "execution_count": null,
   "id": "541fe5c6-5192-4e56-8773-4e3cd17f6984",
   "metadata": {},
   "outputs": [],
   "source": []
  }
 ],
 "metadata": {
  "kernelspec": {
   "display_name": "Python 3 (ipykernel)",
   "language": "python",
   "name": "python3"
  },
  "language_info": {
   "codemirror_mode": {
    "name": "ipython",
    "version": 3
   },
   "file_extension": ".py",
   "mimetype": "text/x-python",
   "name": "python",
   "nbconvert_exporter": "python",
   "pygments_lexer": "ipython3",
   "version": "3.12.3"
  }
 },
 "nbformat": 4,
 "nbformat_minor": 5
}
